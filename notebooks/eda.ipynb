{
 "cells": [
  {
   "cell_type": "code",
   "execution_count": 2,
   "metadata": {},
   "outputs": [],
   "source": [
    "import os\n",
    "import pandas as pd\n",
    "import numpy as np"
   ]
  },
  {
   "cell_type": "code",
   "execution_count": 4,
   "metadata": {},
   "outputs": [],
   "source": [
    "path_data = '/home/dev/projects/games/csgo/data'"
   ]
  },
  {
   "cell_type": "markdown",
   "metadata": {},
   "source": [
    "## Teams Stats"
   ]
  },
  {
   "cell_type": "code",
   "execution_count": 8,
   "metadata": {},
   "outputs": [],
   "source": [
    "teams = pd.read_csv(\n",
    "    os.path.join(path_data, 'raw', 'teams_stat.csv'),\n",
    "    index_col=0\n",
    ")"
   ]
  },
  {
   "cell_type": "code",
   "execution_count": 10,
   "metadata": {},
   "outputs": [
    {
     "data": {
      "text/html": [
       "<div>\n",
       "<style scoped>\n",
       "    .dataframe tbody tr th:only-of-type {\n",
       "        vertical-align: middle;\n",
       "    }\n",
       "\n",
       "    .dataframe tbody tr th {\n",
       "        vertical-align: top;\n",
       "    }\n",
       "\n",
       "    .dataframe thead th {\n",
       "        text-align: right;\n",
       "    }\n",
       "</style>\n",
       "<table border=\"1\" class=\"dataframe\">\n",
       "  <thead>\n",
       "    <tr style=\"text-align: right;\">\n",
       "      <th></th>\n",
       "      <th>name</th>\n",
       "      <th>flag</th>\n",
       "      <th>maps_count</th>\n",
       "      <th>kd_diff</th>\n",
       "      <th>kd_ratio</th>\n",
       "      <th>rating</th>\n",
       "      <th>url</th>\n",
       "      <th>wins</th>\n",
       "      <th>draws</th>\n",
       "      <th>losses</th>\n",
       "      <th>total_kills</th>\n",
       "      <th>total_deaths</th>\n",
       "      <th>rounds_played</th>\n",
       "    </tr>\n",
       "  </thead>\n",
       "  <tbody>\n",
       "    <tr>\n",
       "      <th>0</th>\n",
       "      <td>TYLOO</td>\n",
       "      <td>China</td>\n",
       "      <td>1281</td>\n",
       "      <td>11678</td>\n",
       "      <td>1.11</td>\n",
       "      <td>1.06</td>\n",
       "      <td>https://www.hltv.org/stats/teams/4863/tyloo</td>\n",
       "      <td>853</td>\n",
       "      <td>1</td>\n",
       "      <td>427</td>\n",
       "      <td>119722</td>\n",
       "      <td>108044</td>\n",
       "      <td>33172</td>\n",
       "    </tr>\n",
       "    <tr>\n",
       "      <th>1</th>\n",
       "      <td>Renegades</td>\n",
       "      <td>Australia</td>\n",
       "      <td>1066</td>\n",
       "      <td>4642</td>\n",
       "      <td>1.05</td>\n",
       "      <td>1.05</td>\n",
       "      <td>https://www.hltv.org/stats/teams/6211/renegades</td>\n",
       "      <td>630</td>\n",
       "      <td>0</td>\n",
       "      <td>436</td>\n",
       "      <td>95413</td>\n",
       "      <td>90771</td>\n",
       "      <td>27689</td>\n",
       "    </tr>\n",
       "    <tr>\n",
       "      <th>2</th>\n",
       "      <td>ViCi</td>\n",
       "      <td>China</td>\n",
       "      <td>731</td>\n",
       "      <td>5761</td>\n",
       "      <td>1.09</td>\n",
       "      <td>1.05</td>\n",
       "      <td>https://www.hltv.org/stats/teams/7606/vici</td>\n",
       "      <td>478</td>\n",
       "      <td>0</td>\n",
       "      <td>253</td>\n",
       "      <td>67063</td>\n",
       "      <td>61302</td>\n",
       "      <td>18926</td>\n",
       "    </tr>\n",
       "    <tr>\n",
       "      <th>3</th>\n",
       "      <td>ORDER</td>\n",
       "      <td>Australia</td>\n",
       "      <td>873</td>\n",
       "      <td>9638</td>\n",
       "      <td>1.14</td>\n",
       "      <td>1.05</td>\n",
       "      <td>https://www.hltv.org/stats/teams/8668/order</td>\n",
       "      <td>588</td>\n",
       "      <td>0</td>\n",
       "      <td>285</td>\n",
       "      <td>80080</td>\n",
       "      <td>70442</td>\n",
       "      <td>22370</td>\n",
       "    </tr>\n",
       "    <tr>\n",
       "      <th>4</th>\n",
       "      <td>Vitality</td>\n",
       "      <td>France</td>\n",
       "      <td>801</td>\n",
       "      <td>3485</td>\n",
       "      <td>1.05</td>\n",
       "      <td>1.05</td>\n",
       "      <td>https://www.hltv.org/stats/teams/9565/vitality</td>\n",
       "      <td>495</td>\n",
       "      <td>2</td>\n",
       "      <td>304</td>\n",
       "      <td>71746</td>\n",
       "      <td>68261</td>\n",
       "      <td>21067</td>\n",
       "    </tr>\n",
       "  </tbody>\n",
       "</table>\n",
       "</div>"
      ],
      "text/plain": [
       "        name       flag  maps_count  kd_diff  kd_ratio  rating  \\\n",
       "0      TYLOO      China        1281    11678      1.11    1.06   \n",
       "1  Renegades  Australia        1066     4642      1.05    1.05   \n",
       "2       ViCi      China         731     5761      1.09    1.05   \n",
       "3      ORDER  Australia         873     9638      1.14    1.05   \n",
       "4   Vitality     France         801     3485      1.05    1.05   \n",
       "\n",
       "                                               url  wins  draws  losses  \\\n",
       "0      https://www.hltv.org/stats/teams/4863/tyloo   853      1     427   \n",
       "1  https://www.hltv.org/stats/teams/6211/renegades   630      0     436   \n",
       "2       https://www.hltv.org/stats/teams/7606/vici   478      0     253   \n",
       "3      https://www.hltv.org/stats/teams/8668/order   588      0     285   \n",
       "4   https://www.hltv.org/stats/teams/9565/vitality   495      2     304   \n",
       "\n",
       "   total_kills  total_deaths  rounds_played  \n",
       "0       119722        108044          33172  \n",
       "1        95413         90771          27689  \n",
       "2        67063         61302          18926  \n",
       "3        80080         70442          22370  \n",
       "4        71746         68261          21067  "
      ]
     },
     "execution_count": 10,
     "metadata": {},
     "output_type": "execute_result"
    }
   ],
   "source": [
    "teams.head()"
   ]
  },
  {
   "cell_type": "code",
   "execution_count": 4,
   "metadata": {},
   "outputs": [
    {
     "data": {
      "text/plain": [
       "['https:', '', 'www.hltv.org', 'stats', 'teams', '4863', 'tyloo']"
      ]
     },
     "execution_count": 4,
     "metadata": {},
     "output_type": "execute_result"
    }
   ],
   "source": [
    "splitted = 'https://www.hltv.org/stats/teams/4863/tyloo'.split('/')\n",
    "splitted"
   ]
  },
  {
   "cell_type": "code",
   "execution_count": 6,
   "metadata": {},
   "outputs": [
    {
     "data": {
      "text/plain": [
       "'https://www.hltv.org/stats/teams/matches/4863/tyloo'"
      ]
     },
     "execution_count": 6,
     "metadata": {},
     "output_type": "execute_result"
    }
   ],
   "source": [
    "'/'.join(splitted[:5]) + '/' + 'matches' + '/' + '/'.join(splitted[5:])"
   ]
  }
 ],
 "metadata": {
  "kernelspec": {
   "display_name": "Python 3.9.12 ('games')",
   "language": "python",
   "name": "python3"
  },
  "language_info": {
   "codemirror_mode": {
    "name": "ipython",
    "version": 3
   },
   "file_extension": ".py",
   "mimetype": "text/x-python",
   "name": "python",
   "nbconvert_exporter": "python",
   "pygments_lexer": "ipython3",
   "version": "3.9.12"
  },
  "orig_nbformat": 4,
  "vscode": {
   "interpreter": {
    "hash": "29cc4f156c251aec10505de88358458b3c483f0cbc3e4cb758d89aab009fa920"
   }
  }
 },
 "nbformat": 4,
 "nbformat_minor": 2
}
